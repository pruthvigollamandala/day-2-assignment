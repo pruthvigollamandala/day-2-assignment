{
 "cells": [
  {
   "cell_type": "code",
   "execution_count": 1,
   "metadata": {},
   "outputs": [
    {
     "name": "stdout",
     "output_type": "stream",
     "text": [
      "prasad\n",
      "23\n",
      "False\n",
      "True\n",
      "hello prasad\n"
     ]
    }
   ],
   "source": [
    "#1.capitalize function\n",
    "str1 = \"prasad\"\n",
    "str1.capitalize()\n",
    "print(str1)\n",
    "\n",
    "#2.len function\n",
    "str2 = \"hello ra how are you ra\"\n",
    "print(len(str2))\n",
    "\n",
    "#3.isalpha function\n",
    "str3 = \"heloo prasad\"\n",
    "print(str3.isalpha())\n",
    "\n",
    "#4. isdigit function\n",
    "str4 = \"9596329\"\n",
    "print(str4.isdigit())\n",
    "\n",
    "#5. swapcase function\n",
    "str5 = \"HELLO PRASAD\"\n",
    "print(str5.swapcase())\n",
    "\n"
   ]
  },
  {
   "cell_type": "code",
   "execution_count": 2,
   "metadata": {},
   "outputs": [
    {
     "name": "stdout",
     "output_type": "stream",
     "text": [
      "['apple', 'banana', 'grapes', 'mango']\n",
      "['apple', 'banana', 'grapes', 'mango', 'papaya']\n",
      "['apple', 'banana', 'grapes', 'mango', 'papaya']\n",
      "['apple', 'berry', 'banana', 'grapes', 'mango', 'papaya']\n",
      "['papaya', 'mango', 'grapes', 'banana', 'berry', 'apple']\n"
     ]
    }
   ],
   "source": [
    "#list functions\n",
    "\n",
    "list1 = ['apple','banana','orange','mango']\n",
    "#replace function\n",
    "list1[2] = \"grapes\"\n",
    "print(list1)\n",
    "\n",
    "#append function\n",
    "list1.append(\"papaya\")\n",
    "print(list1)\n",
    "\n",
    "#sort function\n",
    "list1.sort()\n",
    "print(list1)\n",
    "\n",
    "#insert function\n",
    "list1.insert(1,\"berry\")\n",
    "print(list1)\n",
    "\n",
    "#reverse function\n",
    "list1.reverse()\n",
    "print(list1)\n"
   ]
  },
  {
   "cell_type": "code",
   "execution_count": 3,
   "metadata": {},
   "outputs": [
    {
     "name": "stdout",
     "output_type": "stream",
     "text": [
      "3\n",
      "True\n",
      "False\n",
      "prasad\n",
      "{1: 'prasad', 2: 'haha', 3: 'ayya', 4: 'ball'}\n",
      "{1: 'prasad', 2: 'haha', 3: 'bat', 4: 'ball'}\n"
     ]
    }
   ],
   "source": [
    "#dictionary functions\n",
    "\n",
    "dict1 = {1:\"prasad\",2:\"haha\",3:\"ayya\"}\n",
    "\n",
    "#1.length of dict\n",
    "print(len(dict1))\n",
    "\n",
    "#2. membership operators in dict\n",
    "print(1 in dict1)\n",
    "print(4 in dict1)\n",
    "\n",
    "#3. get function\n",
    "print(dict1.get(1))\n",
    "\n",
    "#4. inseting function\n",
    "dict1[4] = \"ball\"\n",
    "print(dict1)\n",
    "\n",
    "#5.update function\n",
    "dict1[3] = \"bat\"\n",
    "print(dict1)"
   ]
  },
  {
   "cell_type": "code",
   "execution_count": null,
   "metadata": {},
   "outputs": [],
   "source": []
  }
 ],
 "metadata": {
  "kernelspec": {
   "display_name": "Python 3",
   "language": "python",
   "name": "python3"
  },
  "language_info": {
   "codemirror_mode": {
    "name": "ipython",
    "version": 3
   },
   "file_extension": ".py",
   "mimetype": "text/x-python",
   "name": "python",
   "nbconvert_exporter": "python",
   "pygments_lexer": "ipython3",
   "version": "3.8.5"
  }
 },
 "nbformat": 4,
 "nbformat_minor": 4
}
